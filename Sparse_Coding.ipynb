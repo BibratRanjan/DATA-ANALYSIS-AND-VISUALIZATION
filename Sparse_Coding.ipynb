{
 "cells": [
  {
   "cell_type": "code",
   "execution_count": 1,
   "metadata": {
    "collapsed": true
   },
   "outputs": [],
   "source": [
    "import numpy as np\n",
    "def feature_sign_search(base_vectors, input_vect, gamma):\n",
    "    effective_zero = 1e-18\n",
    "    \n",
    "    Atrans_A = np.dot(base_vectors.T,base_vectors)\n",
    "    Atrans_ip = np.dot(base_vectors.T, input_vect)\n",
    "    \n",
    "    #coef_vect is the coefficient vector\n",
    "    coef_vect = np.zeros(Atrans_A.shape[0])\n",
    "    #Holds sign of the coef_vect vector.\n",
    "    signs = np.zeros(Atrans_A.shape[0], dtype=np.int8)\n",
    "    active_set = set()\n",
    "    zero_opt = np.inf\n",
    "    nzero_opt = 0\n",
    "       \n",
    "    #Second term becomes zero initially hence is not important.\n",
    "    grad = - 2 * Atrans_ip + 2 * np.dot(Atrans_A, coef_vect)\n",
    "\n",
    "    #Compute cost function for line search\n",
    "    sds = np.dot(input_vect.T, input_vect)\n",
    "    while not(zero_opt <= gamma and np.allclose(nzero_opt, 0)):\n",
    "        if np.allclose(nzero_opt, 0):\n",
    "            candidate = np.argmax(np.abs(grad) * (signs == 0))\n",
    "\n",
    "            if grad[candidate] > gamma:\n",
    "                signs[candidate] = -1.\n",
    "                coef_vect[candidate] = 0.\n",
    "\n",
    "                active_set.add(candidate)\n",
    "            elif grad[candidate] < -gamma:\n",
    "                signs[candidate] = 1.\n",
    "                coef_vect[candidate] = 0.\n",
    "\n",
    "                active_set.add(candidate)\n",
    "            if len(active_set) == 0:\n",
    "                break\n",
    "        indices = np.array(sorted(active_set))\n",
    "        sub_gram = Atrans_A[np.ix_(indices, indices)]\n",
    "        sub_corr = Atrans_ip[indices]\n",
    "        sub_sign = signs[indices]\n",
    "        rhs = sub_corr - gamma * sub_sign / 2\n",
    "        \n",
    "        new_coef_vect = np.linalg.solve(sub_gram, rhs)\n",
    "        new_signs = np.sign(new_coef_vect)\n",
    "        sub_oldsol = coef_vect[indices]\n",
    "        sign_flips = np.where(abs(new_signs - sub_sign) > 1)[0]\n",
    "        if len(sign_flips) > 0:\n",
    "            best_obj = np.inf\n",
    "            best_curr = None\n",
    "            best_curr = new_coef_vect\n",
    "            best_obj = (sds + (np.dot(new_coef_vect,\n",
    "                                      np.dot(sub_gram, new_coef_vect))\n",
    "                        - 2 * np.dot(new_coef_vect, sub_corr))\n",
    "                        + gamma * abs(new_coef_vect).sum())            \n",
    "    \n",
    "            for idx in sign_flips:\n",
    "                a = new_coef_vect[idx]\n",
    "                b = sub_oldsol[idx]\n",
    "                prop = b / (b - a)\n",
    "                curr = sub_oldsol - prop * (sub_oldsol - new_coef_vect)\n",
    "                cost = sds + (np.dot(curr, np.dot(sub_gram, curr))\n",
    "                              - 2 * np.dot(curr, sub_corr)\n",
    "                              + gamma * abs(curr).sum())\n",
    "\n",
    "                if cost < best_obj:\n",
    "                    best_obj = cost\n",
    "                    best_curr = curr\n",
    "\n",
    "        else:\n",
    "            best_curr = new_coef_vect\n",
    "        coef_vect[indices] = best_curr\n",
    "        zeros = indices[np.abs(coef_vect[indices]) < effective_zero]\n",
    "        coef_vect[zeros] = 0\n",
    "        \n",
    "        active_set.difference_update(zeros)\n",
    "        grad = - 2 * Atrans_ip + 2 * np.dot(Atrans_A, coef_vect)\n",
    "        zero_opt = np.max(abs(grad[signs == 0]))\n",
    "        nzero_opt = np.max(abs(grad[signs != 0] + gamma * signs[signs != 0]))\n",
    "    return coef_vect"
   ]
  },
  {
   "cell_type": "code",
   "execution_count": 3,
   "metadata": {},
   "outputs": [
    {
     "name": "stdout",
     "output_type": "stream",
     "text": [
      "For gamma =0.12, norm of error is:4.465693537158788\n",
      "Corresponding Coefficient Vector:[-0.06821536  0.00313132  0.          0.          0.62771135 -0.04587954\n",
      "  0.          0.22175316  0.         -0.24083373]\n",
      "\n",
      "For gamma =0.2, norm of error is:4.504056689297736\n",
      "Corresponding Coefficient Vector:[ 0.          0.          0.          0.          0.57674627  0.          0.\n",
      "  0.15629456  0.         -0.19507784]\n",
      "\n",
      "For gamma =0.5, norm of error is:4.568856147339957\n",
      "Corresponding Coefficient Vector:[ 0.          0.          0.00176084  0.          0.53237512  0.          0.\n",
      "  0.05727834  0.          0.        ]\n",
      "\n",
      "For gamma =1, norm of error is:4.567650486235373\n",
      "Corresponding Coefficient Vector:[ 0.          0.          0.          0.          0.45299596  0.          0.\n",
      "  0.06566718  0.          0.        ]\n",
      "\n",
      "For gamma =2, norm of error is:4.569718755501085\n",
      "Corresponding Coefficient Vector:[ 0.          0.          0.          0.          0.292849    0.          0.\n",
      "  0.08118873  0.          0.        ]\n",
      "\n",
      "For gamma =4, norm of error is:4.589125494870168\n",
      "Corresponding Coefficient Vector:[ 0.          0.          0.          0.          0.          0.          0.\n",
      "  0.09305409  0.          0.        ]\n",
      "\n",
      "For gamma =8, norm of error is:4.595926989632842\n",
      "Corresponding Coefficient Vector:[ 0.  0.  0.  0.  0.  0.  0.  0.  0.  0.]\n",
      "\n",
      "For gamma =10, norm of error is:4.595926989632842\n",
      "Corresponding Coefficient Vector:[ 0.  0.  0.  0.  0.  0.  0.  0.  0.  0.]\n",
      "\n",
      "For gamma =20, norm of error is:4.595926989632842\n",
      "Corresponding Coefficient Vector:[ 0.  0.  0.  0.  0.  0.  0.  0.  0.  0.]\n",
      "\n",
      "For gamma =50, norm of error is:4.595926989632842\n",
      "Corresponding Coefficient Vector:[ 0.  0.  0.  0.  0.  0.  0.  0.  0.  0.]\n",
      "\n",
      "For gamma =100, norm of error is:4.595926989632842\n",
      "Corresponding Coefficient Vector:[ 0.  0.  0.  0.  0.  0.  0.  0.  0.  0.]\n",
      "\n"
     ]
    },
    {
     "data": {
      "text/plain": [
       "' Run the code a few times if it hangs by restarting the kernel  '"
      ]
     },
     "execution_count": 3,
     "metadata": {},
     "output_type": "execute_result"
    }
   ],
   "source": [
    "A=np.random.random((10,10))\n",
    "y=np.random.random(10)\n",
    "gamma=[0.12,0.2,0.5,1,2,4,8,10,20,50,100]\n",
    "for g in gamma:\n",
    "    #Predicted coefficient vector\n",
    "    X_predicted=feature_sign_search(A,y,g)\n",
    "    #Actual Coefficient vector\n",
    "    X=np.linalg.solve(A,y)\n",
    "\n",
    "    print(\"For gamma ={0}, norm of error is:{1}\".format(g,(np.linalg.norm(X-X_predicted))))\n",
    "    print(\"Corresponding Coefficient Vector:{0}\".format(X_predicted))\n",
    "    print()\n",
    "\n",
    "\"\"\" Run the code a few times if it hangs by restarting the kernel  \"\"\""
   ]
  },
  {
   "cell_type": "code",
   "execution_count": null,
   "metadata": {
    "collapsed": true
   },
   "outputs": [],
   "source": []
  },
  {
   "cell_type": "code",
   "execution_count": null,
   "metadata": {
    "collapsed": true
   },
   "outputs": [],
   "source": []
  }
 ],
 "metadata": {
  "kernelspec": {
   "display_name": "Python 3",
   "language": "python",
   "name": "python3"
  },
  "language_info": {
   "codemirror_mode": {
    "name": "ipython",
    "version": 3
   },
   "file_extension": ".py",
   "mimetype": "text/x-python",
   "name": "python",
   "nbconvert_exporter": "python",
   "pygments_lexer": "ipython3",
   "version": "3.6.3"
  }
 },
 "nbformat": 4,
 "nbformat_minor": 2
}
